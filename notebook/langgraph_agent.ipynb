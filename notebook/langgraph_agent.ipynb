{
 "cells": [
  {
   "cell_type": "code",
   "execution_count": 1,
   "metadata": {},
   "outputs": [],
   "source": [
    "from dotenv import load_dotenv\n",
    "load_dotenv()\n",
    "\n",
    "from config import Config\n",
    "config = Config.load()"
   ]
  },
  {
   "cell_type": "code",
   "execution_count": 2,
   "metadata": {},
   "outputs": [],
   "source": [
    "from langfuse.callback import CallbackHandler\n",
    "\n",
    "# Initialize Langfuse CallbackHandler for LangGraph/Langchain (tracing)\n",
    "langfuse_handler = CallbackHandler()"
   ]
  },
  {
   "cell_type": "code",
   "execution_count": null,
   "metadata": {},
   "outputs": [],
   "source": [
    "from utils import prompt_loader\n",
    "prompt_loader.list_prompts()"
   ]
  },
  {
   "cell_type": "code",
   "execution_count": 4,
   "metadata": {},
   "outputs": [],
   "source": [
    "from agent.agents import AgentFactory\n",
    "agent_factory = AgentFactory()\n",
    "\n",
    "from langfuse.callback import CallbackHandler\n",
    "\n",
    "# Initialize Langfuse CallbackHandler for LangGraph/Langchain (tracing)\n",
    "langfuse_handler = CallbackHandler()"
   ]
  },
  {
   "cell_type": "markdown",
   "metadata": {},
   "source": [
    "### Step1: Search News"
   ]
  },
  {
   "cell_type": "code",
   "execution_count": 5,
   "metadata": {},
   "outputs": [],
   "source": [
    "initial_search_agent = await agent_factory.get_initial_search_agent()"
   ]
  },
  {
   "cell_type": "code",
   "execution_count": 6,
   "metadata": {},
   "outputs": [],
   "source": [
    "initial_search_agent = await agent_factory.get_initial_search_agent()\n",
    "response = await initial_search_agent.ainvoke({\"messages\": [{\"role\": \"user\", \"content\": \"Start searching for news about the latest trends in AI and machine learning, provide maximum 2 articles.\"}]},\n",
    "                                        config={\"callbacks\": [langfuse_handler]})"
   ]
  },
  {
   "cell_type": "code",
   "execution_count": null,
   "metadata": {},
   "outputs": [],
   "source": [
    "response"
   ]
  },
  {
   "cell_type": "code",
   "execution_count": null,
   "metadata": {},
   "outputs": [],
   "source": [
    "response[\"structured_response\"].articles"
   ]
  },
  {
   "cell_type": "markdown",
   "metadata": {},
   "source": [
    "### Filter News"
   ]
  },
  {
   "cell_type": "code",
   "execution_count": 6,
   "metadata": {},
   "outputs": [],
   "source": [
    "from data_model.news import NewsArticleList\n",
    "from agent.agents import AgentFactory\n",
    "agent_factory = AgentFactory()\n",
    "\n",
    "from langfuse.callback import CallbackHandler\n",
    "\n",
    "# Initialize Langfuse CallbackHandler for LangGraph/Langchain (tracing)\n",
    "langfuse_handler = CallbackHandler()\n",
    "\n",
    "github_assistant = await agent_factory.get_github_assistant(specific_tool=[\"get_file_contents\", \"get_me\"], response_format=NewsArticleList)"
   ]
  },
  {
   "cell_type": "code",
   "execution_count": 10,
   "metadata": {},
   "outputs": [],
   "source": [
    "news_filter_prompt = await prompt_loader.get_prompt(\"news_filter\").template.render_async(news=response[\"structured_response\"].articles)\n",
    "\n",
    "result = await github_assistant.ainvoke({\"messages\": [{\"role\": \"user\", \"content\": news_filter_prompt}]},\n",
    "                                        config={\"callbacks\": [langfuse_handler]})"
   ]
  },
  {
   "cell_type": "code",
   "execution_count": null,
   "metadata": {},
   "outputs": [],
   "source": [
    "result"
   ]
  },
  {
   "cell_type": "code",
   "execution_count": null,
   "metadata": {},
   "outputs": [],
   "source": [
    "result[\"structured_response\"]"
   ]
  },
  {
   "cell_type": "markdown",
   "metadata": {},
   "source": [
    "### Agent"
   ]
  },
  {
   "cell_type": "code",
   "execution_count": 5,
   "metadata": {},
   "outputs": [],
   "source": [
    "from agent.agents import AgentFactory\n",
    "\n",
    "agent_factory = AgentFactory(verbose=True)\n",
    "\n",
    "from langfuse.callback import CallbackHandler\n",
    "\n",
    "# Initialize Langfuse CallbackHandler for LangGraph/Langchain (tracing)\n",
    "langfuse_handler = CallbackHandler()"
   ]
  },
  {
   "cell_type": "markdown",
   "metadata": {},
   "source": [
    "#### summarise agent\n"
   ]
  },
  {
   "cell_type": "code",
   "execution_count": null,
   "metadata": {},
   "outputs": [],
   "source": [
    "search_and_summarise_agent = await agent_factory.get_search_and_summarise_agent()"
   ]
  },
  {
   "cell_type": "code",
   "execution_count": null,
   "metadata": {},
   "outputs": [],
   "source": [
    "search_and_summarise_agent"
   ]
  },
  {
   "cell_type": "code",
   "execution_count": 25,
   "metadata": {},
   "outputs": [],
   "source": [
    "class Article:\n",
    "    title: str = \"Anthropic Releases Claude 4 with Autonomous Functionality\"\n",
    "    source: str = \"Anthropic\"\n",
    "    date: str = \"2025-05-22\"\n",
    "    summary: str = \"Anthropic has unveiled Claude 4, featuring two models: Claude Opus 4 and Claude Sonnet 4. Notably, Claude 4 can operate autonomously for extended periods, enhancing its utility in complex tasks.\"\n",
    "    url: str = \"https://www.anthropic.com/claude-4-release\"\n",
    "\n",
    "\n",
    "article = Article()\n",
    "    \n",
    "    "
   ]
  },
  {
   "cell_type": "code",
   "execution_count": 26,
   "metadata": {},
   "outputs": [],
   "source": [
    "news_format = prompt_loader.get_prompt(\"news_format\")\n",
    "news = await news_format.template.render_async(title=article.title, \n",
    "                                            source=article.source, \n",
    "                                            date=article.date, \n",
    "                                            summary=article.summary,\n",
    "                                            url_ref=article.url)"
   ]
  },
  {
   "cell_type": "code",
   "execution_count": 27,
   "metadata": {},
   "outputs": [],
   "source": [
    "output = search_and_summarise_agent.invoke({\"messages\": [{\"role\": \"user\", \"content\": news}]}, \n",
    "             config={\"callbacks\": [langfuse_handler]})"
   ]
  },
  {
   "cell_type": "code",
   "execution_count": null,
   "metadata": {},
   "outputs": [],
   "source": [
    "print(output[\"messages\"][-1].content[0][\"text\"])"
   ]
  },
  {
   "cell_type": "code",
   "execution_count": null,
   "metadata": {},
   "outputs": [],
   "source": [
    "print(output[\"structured_response\"].file_name)"
   ]
  },
  {
   "cell_type": "code",
   "execution_count": null,
   "metadata": {},
   "outputs": [],
   "source": [
    "print(output[\"structured_response\"].markdown_file)"
   ]
  },
  {
   "cell_type": "markdown",
   "metadata": {},
   "source": [
    "#### github agent"
   ]
  },
  {
   "cell_type": "code",
   "execution_count": null,
   "metadata": {},
   "outputs": [],
   "source": [
    "github_assistant = await agent_factory.get_github_assistant(specific_tool=[\"get_file_contents\", \"get_me\"])"
   ]
  },
  {
   "cell_type": "code",
   "execution_count": null,
   "metadata": {},
   "outputs": [],
   "source": [
    "prompt = \"\"\"\n",
    "Can you show me to add .requirements.txt file with numpy, pandas, \\\n",
    "and langchain under github project ai-news-ignite, under my GitHub account (jeff52415), \\\n",
    "create a new branch, and push the changes to the new branch, then make a pull request to merge the changes into the main branch?\n",
    "\"\"\"\n",
    "output = await github_assistant.ainvoke({\"messages\": [{\"role\": \"user\", \n",
    "                                                       \"content\": prompt}]},\n",
    "                                        config={\"callbacks\": [langfuse_handler]})"
   ]
  },
  {
   "cell_type": "code",
   "execution_count": null,
   "metadata": {},
   "outputs": [],
   "source": [
    "print(output[\"messages\"][-1].content)"
   ]
  },
  {
   "cell_type": "markdown",
   "metadata": {},
   "source": [
    "### Multi-Agent"
   ]
  },
  {
   "cell_type": "code",
   "execution_count": null,
   "metadata": {},
   "outputs": [],
   "source": [
    "class Article:\n",
    "    title: str = \"Anthropic Releases Claude 4 with Autonomous Functionality\"\n",
    "    source: str = \"Anthropic\"\n",
    "    date: str = \"2025-05-22\"\n",
    "    summary: str = \"Anthropic has unveiled Claude 4, featuring two models: Claude Opus 4 and Claude Sonnet 4. Notably, Claude 4 can operate autonomously for extended periods, enhancing its utility in complex tasks.\"\n",
    "    url: str = \"https://www.anthropic.com/claude-4-release\"\n",
    "\n",
    "\n",
    "article = Article()\n",
    "    \n",
    "    \n",
    "supervisor = await agent_factory.get_supervisor()"
   ]
  },
  {
   "cell_type": "code",
   "execution_count": 18,
   "metadata": {},
   "outputs": [],
   "source": [
    "supervisor.debug = True"
   ]
  },
  {
   "cell_type": "code",
   "execution_count": 19,
   "metadata": {},
   "outputs": [],
   "source": [
    "supervisor_prompt= prompt_loader.get_prompt(\"supervisor_agent_input\")\n",
    "supervisor_prompt = await supervisor_prompt.template.render_async(title=article.title, \n",
    "                                                            source=article.source, \n",
    "                                                            date=article.date, \n",
    "                                                            summary=article.summary,\n",
    "                                                            url_ref=article.url)"
   ]
  },
  {
   "cell_type": "code",
   "execution_count": null,
   "metadata": {},
   "outputs": [],
   "source": [
    "print(supervisor_prompt)"
   ]
  },
  {
   "cell_type": "code",
   "execution_count": null,
   "metadata": {},
   "outputs": [],
   "source": [
    "output = await supervisor.ainvoke({\"messages\": [{\"role\": \"user\", \"content\": supervisor_prompt}]},\n",
    "                                        config={\"callbacks\": [langfuse_handler], \"recursion_limit\": 40}, )\n",
    "print(output[\"messages\"][-1].content)"
   ]
  },
  {
   "cell_type": "code",
   "execution_count": null,
   "metadata": {},
   "outputs": [],
   "source": [
    "output"
   ]
  },
  {
   "cell_type": "code",
   "execution_count": null,
   "metadata": {},
   "outputs": [],
   "source": [
    "output[\"messages\"][-1].content"
   ]
  }
 ],
 "metadata": {
  "kernelspec": {
   "display_name": "ai-news",
   "language": "python",
   "name": "ai-news"
  },
  "language_info": {
   "codemirror_mode": {
    "name": "ipython",
    "version": 3
   },
   "file_extension": ".py",
   "mimetype": "text/x-python",
   "name": "python",
   "nbconvert_exporter": "python",
   "pygments_lexer": "ipython3",
   "version": "3.13.1"
  }
 },
 "nbformat": 4,
 "nbformat_minor": 2
}

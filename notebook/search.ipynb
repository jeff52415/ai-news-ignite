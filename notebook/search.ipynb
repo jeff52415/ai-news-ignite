{
 "cells": [
  {
   "cell_type": "code",
   "execution_count": 1,
   "metadata": {},
   "outputs": [],
   "source": [
    "from openai import OpenAI\n",
    "from dotenv import load_dotenv\n",
    "load_dotenv()\n",
    "\n",
    "from config import Config\n",
    "config = Config.load()"
   ]
  },
  {
   "cell_type": "markdown",
   "metadata": {},
   "source": [
    "### PROMPT"
   ]
  },
  {
   "cell_type": "code",
   "execution_count": 2,
   "metadata": {},
   "outputs": [
    {
     "name": "stderr",
     "output_type": "stream",
     "text": [
      "2025-05-28 14:11:26,140 - utils.prompt_loader - INFO - Preloaded prompt: search.j2\n",
      "2025-05-28 14:11:26,145 - utils.prompt_loader - INFO - Preloaded prompt: summarise_news.j2\n"
     ]
    },
    {
     "data": {
      "text/plain": [
       "['search', 'summarise_news']"
      ]
     },
     "execution_count": 2,
     "metadata": {},
     "output_type": "execute_result"
    }
   ],
   "source": [
    "from utils import prompt_loader\n",
    "prompt_loader.list_prompts()"
   ]
  },
  {
   "cell_type": "code",
   "execution_count": 3,
   "metadata": {},
   "outputs": [],
   "source": [
    "SEARCH_PROMPT = prompt_loader.get_prompt(\"search\").template.render()\n"
   ]
  },
  {
   "cell_type": "markdown",
   "metadata": {},
   "source": [
    "### OPENAI"
   ]
  },
  {
   "cell_type": "code",
   "execution_count": 4,
   "metadata": {},
   "outputs": [],
   "source": [
    "from utils import extract_json_from_text\n",
    "client = OpenAI()\n",
    "response = client.responses.create(\n",
    "    model=config.openai_search_tools.model,\n",
    "    tools=[{\"type\": config.openai_search_tools.type, \n",
    "            \"search_context_size\": config.openai_search_tools.search_context_size},],\n",
    "    input=SEARCH_PROMPT,    \n",
    ")\n",
    "search_result  = extract_json_from_text(response.output_text)"
   ]
  },
  {
   "cell_type": "code",
   "execution_count": 5,
   "metadata": {},
   "outputs": [
    {
     "data": {
      "text/plain": [
       "[{'title': 'Anthropic Releases Claude 4 with Autonomous Functionality',\n",
       "  'source': 'Anthropic',\n",
       "  'date': '2025-05-22',\n",
       "  'url': 'https://www.anthropic.com/claude-4-release',\n",
       "  'summary': 'Anthropic has unveiled Claude 4, featuring two models: Claude Opus 4 and Claude Sonnet 4. Notably, Claude 4 can operate autonomously for extended periods, enhancing its utility in complex tasks.'},\n",
       " {'title': 'Google DeepMind Introduces Veo 3 and Enhances Gemini 2.5 Pro',\n",
       "  'source': 'Google DeepMind',\n",
       "  'date': '2025-05-20',\n",
       "  'url': 'https://www.deepmind.com/veo-3-gemini-2-5-pro',\n",
       "  'summary': 'Google DeepMind announced Veo 3, a state-of-the-art video generation model, and improved performance of its flagship AI model, Gemini 2.5 Pro, marking significant advancements in generative media models.'},\n",
       " {'title': 'Mistral AI Releases Mistral Medium 3',\n",
       "  'source': 'Mistral AI',\n",
       "  'date': '2025-05-07',\n",
       "  'url': 'https://www.mistral.ai/mistral-medium-3',\n",
       "  'summary': 'Mistral AI has launched Mistral Medium 3, a model delivering frontier performance at a significantly lower cost, surpassing leading open models and enterprise models in various benchmarks.'},\n",
       " {'title': 'Google DeepMind Announces AlphaEvolve, a Gemini-Powered Coding Agent',\n",
       "  'source': 'Google DeepMind',\n",
       "  'date': '2025-05-14',\n",
       "  'url': 'https://www.deepmind.com/alphaevolve',\n",
       "  'summary': 'Google DeepMind introduced AlphaEvolve, a coding agent powered by the Gemini model, designed to assist in designing advanced algorithms, marking a significant step in AI-assisted software development.'}]"
      ]
     },
     "execution_count": 5,
     "metadata": {},
     "output_type": "execute_result"
    }
   ],
   "source": [
    "search_result"
   ]
  },
  {
   "cell_type": "code",
   "execution_count": 6,
   "metadata": {},
   "outputs": [],
   "source": [
    "search_result_first = search_result[0]\n",
    "SUMMARISE_PROMPT = prompt_loader.get_prompt(\"summarise_news\").\\\n",
    "template.render(title=search_result_first.get(\"title\"), \n",
    "                source=search_result_first.get(\"source\"), \n",
    "                date=search_result_first.get(\"date\"), \n",
    "                summary=search_result_first.get(\"summary\"),\n",
    "                url_ref=search_result_first.get(\"url\"))"
   ]
  },
  {
   "cell_type": "code",
   "execution_count": 7,
   "metadata": {},
   "outputs": [],
   "source": [
    "with open(\"summarize_prompt.txt\", \"w\") as f:\n",
    "    f.write(SUMMARISE_PROMPT)\n"
   ]
  },
  {
   "cell_type": "code",
   "execution_count": 8,
   "metadata": {},
   "outputs": [],
   "source": [
    "response = client.responses.create(\n",
    "    model=config.openai_search_tools.model,\n",
    "    tools=[{\"type\": config.openai_search_tools.type, \n",
    "            \"search_context_size\": config.openai_search_tools.search_context_size},],\n",
    "    input=SUMMARISE_PROMPT,    \n",
    ")"
   ]
  },
  {
   "cell_type": "code",
   "execution_count": 9,
   "metadata": {},
   "outputs": [
    {
     "name": "stdout",
     "output_type": "stream",
     "text": [
      "```markdown\n",
      "## 📰 Anthropic Releases Claude 4 with Autonomous Functionality\n",
      "\n",
      "**Source**: Anthropic  \n",
      "**Date**: 2025-05-22  \n",
      "**URL**: [https://www.anthropic.com/claude-4-release](https://www.anthropic.com/claude-4-release)\n",
      "\n",
      "---\n",
      "\n",
      "### 🔹 What Happened\n",
      "\n",
      "On May 22, 2025, Anthropic unveiled its latest AI models, Claude Opus 4 and Claude Sonnet 4, during its inaugural developer conference. These models are designed to handle complex tasks with sustained focus, with Opus 4 capable of autonomously coding for extended periods, reportedly up to seven hours. ([axios.com](https://www.axios.com/2025/05/22/anthropic-claude-version-4-ai-model?utm_source=openai))\n",
      "\n",
      "### 🔹 Why It Matters\n",
      "\n",
      "The release of Claude 4 signifies a substantial advancement in AI capabilities, particularly in autonomous coding and complex problem-solving. This development positions Anthropic as a strong competitor in the AI industry, challenging existing models like OpenAI's GPT-4.1 and Google's Gemini 2.5 Pro. ([itpro.com](https://www.itpro.com/software/development/anthropic-claude-opus-4-software-development?utm_source=openai))\n",
      "\n",
      "### 🔹 Who’s Involved\n",
      "\n",
      "- **Anthropic**: The AI research company behind Claude 4, focusing on developing safe and interpretable AI systems.\n",
      "- **Rakuten**: A client that tested Claude Opus 4, where the model successfully ran independently for nearly seven hours during a rigorous open-source refactoring task. ([itpro.com](https://www.itpro.com/software/development/anthropic-claude-opus-4-software-development?utm_source=openai))\n",
      "\n",
      "### 🔹 Technical Details\n",
      "\n",
      "- **Claude Opus 4**: A large-scale AI model optimized for complex reasoning tasks and autonomous coding, capable of maintaining focused effort across many steps in a workflow.\n",
      "- **Claude Sonnet 4**: A more affordable and efficiency-focused model designed for general tasks, offering superior coding and reasoning capabilities compared to previous versions.\n",
      "- **Hybrid Models**: Both Opus 4 and Sonnet 4 are described as \"hybrid models,\" capable of near-instant responses and extended thinking for deeper reasoning.\n",
      "- **Autonomous Functionality**: Opus 4 demonstrated the ability to code independently for up to seven hours, significantly expanding the possibilities for AI agents. ([axios.com](https://www.axios.com/2025/05/22/anthropic-claude-version-4-ai-model?utm_source=openai))\n",
      "\n",
      "---\n",
      "\n",
      "### 📊 Benchmark Results\n",
      "\n",
      "| Benchmark | Score | Dataset/Task           |\n",
      "|-----------|-------|------------------------|\n",
      "| SWE-bench | 72.5% | Software engineering tasks |\n",
      "\n",
      "*Note: Claude Opus 4 scored 72.5% on the SWE-bench benchmark, outperforming OpenAI’s GPT-4.1, which scored 54.6%.* ([itpro.com](https://www.itpro.com/software/development/anthropic-claude-opus-4-software-development?utm_source=openai))\n",
      "\n",
      "---\n",
      "\n",
      "### 🔗 References\n",
      "\n",
      "- [Anthropic's new AI model could be a game changer for developers: Claude Opus 4 'pushes the boundaries in coding', dramatically outperforms OpenAI's GPT-4.1, and can code independently for seven hours](https://www.itpro.com/software/development/anthropic-claude-opus-4-software-development)\n",
      "- [Anthropic unveils the latest Claudes with claim to AI coding crown](https://www.axios.com/2025/05/22/anthropic-claude-version-4-ai-model)\n",
      "- [Startup Anthropic says its new AI model can code for hours at a time](https://www.reuters.com/business/startup-anthropic-says-its-new-ai-model-can-code-hours-time-2025-05-22/)\n",
      "```\n",
      " \n"
     ]
    }
   ],
   "source": [
    "print(response.output_text)"
   ]
  },
  {
   "cell_type": "code",
   "execution_count": 10,
   "metadata": {},
   "outputs": [],
   "source": [
    "with open(\"response.md\", \"w\") as f:\n",
    "    f.write(response.output_text)\n"
   ]
  },
  {
   "cell_type": "markdown",
   "metadata": {},
   "source": [
    "### Google"
   ]
  },
  {
   "cell_type": "code",
   "execution_count": 7,
   "metadata": {},
   "outputs": [],
   "source": [
    "from googleapiclient.discovery import build\n",
    "import os\n",
    "\n",
    "#  https://programmablesearchengine.google.com/\n",
    "#  https://developers.google.com/custom-search/v1/overview\n",
    "\n",
    "def perform_search(api_key, cse_id, query):\n",
    "    try:\n",
    "        # Build the service object\n",
    "        service = build(\"customsearch\", \"v1\", developerKey=api_key)\n",
    "\n",
    "        # Make the search request\n",
    "        # You can add more parameters like num=5 for number of results\n",
    "        res = service.cse().list(\n",
    "            q=query,\n",
    "            cx=cse_id,\n",
    "            # num=3 # Uncomment to get a specific number of results (e.g., 3)\n",
    "        ).execute()\n",
    "\n",
    "        # Extract and print the results\n",
    "        if 'items' in res:\n",
    "            print(f\"Search results for: '{query}'\\n\")\n",
    "            for i, item in enumerate(res['items'], 1):\n",
    "                title = item.get('title')\n",
    "                link = item.get('link')\n",
    "                snippet = item.get('snippet')\n",
    "\n",
    "                print(f\"--- Result {i} ---\")\n",
    "                if title:\n",
    "                    print(f\"Title: {title}\")\n",
    "                if link:\n",
    "                    print(f\"Link: {link}\")\n",
    "                if snippet:\n",
    "                    print(f\"Snippet: {snippet}\")\n",
    "                print(\"-\" * 20 + \"\\n\")\n",
    "        else:\n",
    "            print(\"No results found.\")\n",
    "\n",
    "    except Exception as e:\n",
    "        print(f\"An error occurred: {e}\")\n",
    "        print(\"Please check your API key, Search Engine ID, and API quota.\")"
   ]
  },
  {
   "cell_type": "code",
   "execution_count": 8,
   "metadata": {},
   "outputs": [
    {
     "name": "stdout",
     "output_type": "stream",
     "text": [
      "An error occurred: <HttpError 403 when requesting https://customsearch.googleapis.com/customsearch/v1?q=how+to+learn+python&cx=GOOGLE_SEARCH_ID&alt=json returned \"Method doesn't allow unregistered callers (callers without established identity). Please use API Key or other form of API consumer identity to call this API.\". Details: \"[{'message': \"Method doesn't allow unregistered callers (callers without established identity). Please use API Key or other form of API consumer identity to call this API.\", 'domain': 'global', 'reason': 'forbidden'}]\">\n",
      "Please check your API key, Search Engine ID, and API quota.\n"
     ]
    }
   ],
   "source": [
    "# --- Configuration ---\n",
    "API_KEY = os.getenv(\"GOOGLE_SEARCH_API_KEY\")\n",
    "SEARCH_ENGINE_ID = os.getenv(\"GOOGLE_SEARCH_ID\")\n",
    "SEARCH_QUERY = 'how to learn python'\n",
    "\n",
    "perform_search(API_KEY, SEARCH_ENGINE_ID, SEARCH_QUERY)"
   ]
  }
 ],
 "metadata": {
  "kernelspec": {
   "display_name": "ai-news",
   "language": "python",
   "name": "ai-news"
  },
  "language_info": {
   "codemirror_mode": {
    "name": "ipython",
    "version": 3
   },
   "file_extension": ".py",
   "mimetype": "text/x-python",
   "name": "python",
   "nbconvert_exporter": "python",
   "pygments_lexer": "ipython3",
   "version": "3.13.1"
  }
 },
 "nbformat": 4,
 "nbformat_minor": 2
}

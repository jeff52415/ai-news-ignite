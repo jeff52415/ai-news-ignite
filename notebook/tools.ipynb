{
 "cells": [
  {
   "cell_type": "code",
   "execution_count": 1,
   "metadata": {},
   "outputs": [],
   "source": [
    "from agent.tools.link import is_valid_link\n",
    "from pprint import pprint"
   ]
  },
  {
   "cell_type": "code",
   "execution_count": 2,
   "metadata": {},
   "outputs": [
    {
     "data": {
      "text/plain": [
       "{'url_link': 'https://langchain-ai.github.io/langgraph/agents/multi-agent/#spevisor',\n",
       " 'valid': True}"
      ]
     },
     "execution_count": 2,
     "metadata": {},
     "output_type": "execute_result"
    }
   ],
   "source": [
    "input = {\"url\": \"https://langchain-ai.github.io/langgraph/agents/multi-agent/#spevisor\", \n",
    "         \"timeout\": 5}\n",
    "is_valid_link.invoke(input)"
   ]
  },
  {
   "cell_type": "code",
   "execution_count": 3,
   "metadata": {},
   "outputs": [
    {
     "name": "stdout",
     "output_type": "stream",
     "text": [
      "Check if a URL is valid and accessible.\n",
      "\n",
      "Args:\n",
      "    url (str | list[str]): The URL to check\n",
      "    timeout (int): Timeout in seconds for the request\n",
      "\n",
      "Returns:\n",
      "    dict | list[dict]: {\"url_link\": ..., \"valid\": bool} for each URL\n"
     ]
    }
   ],
   "source": [
    "print(is_valid_link.description)"
   ]
  },
  {
   "cell_type": "code",
   "execution_count": 4,
   "metadata": {},
   "outputs": [
    {
     "data": {
      "text/plain": [
       "{'properties': {'url': {'anyOf': [{'type': 'string'},\n",
       "    {'items': {'type': 'string'}, 'type': 'array'}],\n",
       "   'description': 'The URL to check',\n",
       "   'title': 'Url'},\n",
       "  'timeout': {'default': 5,\n",
       "   'description': 'Timeout in seconds for the request',\n",
       "   'title': 'Timeout',\n",
       "   'type': 'integer'}},\n",
       " 'required': ['url'],\n",
       " 'title': 'LinkToolInput',\n",
       " 'type': 'object'}"
      ]
     },
     "execution_count": 4,
     "metadata": {},
     "output_type": "execute_result"
    }
   ],
   "source": [
    "is_valid_link.args_schema.model_json_schema()"
   ]
  },
  {
   "cell_type": "code",
   "execution_count": 5,
   "metadata": {},
   "outputs": [
    {
     "data": {
      "image/png": "[encoded data removed]",
      "text/plain": [
       "<IPython.core.display.Image object>"
      ]
     },
     "metadata": {},
     "output_type": "display_data"
    }
   ],
   "source": [
    "from IPython.display import Image, display\n",
    "display(Image(is_valid_link.get_graph().draw_mermaid_png()))"
   ]
  },
  {
   "cell_type": "markdown",
   "metadata": {},
   "source": [
    "---"
   ]
  },
  {
   "cell_type": "code",
   "execution_count": 6,
   "metadata": {},
   "outputs": [
    {
     "data": {
      "text/plain": [
       "{'success': True,\n",
       " 'output': 'Hello, world!\\n',\n",
       " 'result': None,\n",
       " 'locals': {'os': namespace(listdir=<function posix.listdir(path=None)>)}}"
      ]
     },
     "execution_count": 6,
     "metadata": {},
     "output_type": "execute_result"
    }
   ],
   "source": [
    "from agent.tools.python_executor import SecurePythonExecutorTool\n",
    "\n",
    "executor = SecurePythonExecutorTool()\n",
    "executor.invoke(\"print('Hello, world!')\")"
   ]
  },
  {
   "cell_type": "code",
   "execution_count": 7,
   "metadata": {},
   "outputs": [
    {
     "data": {
      "text/plain": [
       "{'properties': {'code_str': {'description': \"The Python code to execute securely. Always remember to use 'return' to output your result. You may use the following imports: os.listdirtypes, heapq, math, re, numbers, operator, time, datetime, statistics, string, itertools, textwrap, decimal, enum, copy, hashlib, bisect, uuid, pprint, base64, random, json, collections, fractions, functools\",\n",
       "   'title': 'Code Str',\n",
       "   'type': 'string'},\n",
       "  'allowed_imports': {'default': None,\n",
       "   'items': {'type': 'string'},\n",
       "   'title': 'Allowed Imports',\n",
       "   'type': 'array'},\n",
       "  'max_operations': {'default': 1000,\n",
       "   'title': 'Max Operations',\n",
       "   'type': 'integer'},\n",
       "  'designated_output_var': {'default': '_program_output',\n",
       "   'title': 'Designated Output Var',\n",
       "   'type': 'string'}},\n",
       " 'required': ['code_str'],\n",
       " 'title': 'SecurePythonExecutorInput',\n",
       " 'type': 'object'}"
      ]
     },
     "execution_count": 7,
     "metadata": {},
     "output_type": "execute_result"
    }
   ],
   "source": [
    "executor.args_schema.model_json_schema()"
   ]
  },
  {
   "cell_type": "code",
   "execution_count": 8,
   "metadata": {},
   "outputs": [
    {
     "name": "stdout",
     "output_type": "stream",
     "text": [
      "('Executes Python code securely with restricted imports and operation limits. '\n",
      " 'Returns output, result, locals, and error if any.')\n"
     ]
    }
   ],
   "source": [
    "pprint(executor.description)"
   ]
  },
  {
   "cell_type": "code",
   "execution_count": 9,
   "metadata": {},
   "outputs": [
    {
     "data": {
      "image/png": "[encoded data removed]",
      "text/plain": [
       "<IPython.core.display.Image object>"
      ]
     },
     "metadata": {},
     "output_type": "display_data"
    }
   ],
   "source": [
    "from IPython.display import Image, display\n",
    "display(Image(executor.get_graph().draw_mermaid_png()))"
   ]
  },
  {
   "cell_type": "code",
   "execution_count": null,
   "metadata": {},
   "outputs": [],
   "source": []
  }
 ],
 "metadata": {
  "kernelspec": {
   "display_name": "ai-news",
   "language": "python",
   "name": "ai-news"
  },
  "language_info": {
   "codemirror_mode": {
    "name": "ipython",
    "version": 3
   },
   "file_extension": ".py",
   "mimetype": "text/x-python",
   "name": "python",
   "nbconvert_exporter": "python",
   "pygments_lexer": "ipython3",
   "version": "3.13.1"
  }
 },
 "nbformat": 4,
 "nbformat_minor": 2
}
